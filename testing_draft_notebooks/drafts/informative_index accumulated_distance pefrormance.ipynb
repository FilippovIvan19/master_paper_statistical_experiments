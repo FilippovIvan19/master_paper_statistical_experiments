{
 "cells": [
  {
   "cell_type": "code",
   "execution_count": 1,
   "id": "63689938",
   "metadata": {},
   "outputs": [],
   "source": [
    "import os\n",
    "os.chdir('../..')"
   ]
  },
  {
   "cell_type": "code",
   "execution_count": 2,
   "id": "d10b8f06",
   "metadata": {},
   "outputs": [
    {
     "name": "stdout",
     "output_type": "stream",
     "text": [
      "[reading 1 stable periods of IDEAL] finished in 0m 0.14s\n"
     ]
    }
   ],
   "source": [
    "import numpy as np\n",
    "from nilmtk import STATS_CACHE\n",
    "\n",
    "from utils.constants import DatasetType, DAY_IN_SEC\n",
    "from utils.data_reading import clean_and_store_data, read_cleaned_data, \\\n",
    "    convert_to_nilmtk_format, store_processed_stable_periods, \\\n",
    "    get_full_keys_of_stable_periods, read_stable_periods\n",
    "from utils.preprocessing import generate_sync_signals, get_stable_periods, \\\n",
    "    interpolate_missed_data, generate_async_signals, reformat_to_accumulated\n",
    "from utils.timing import time_measure\n",
    "from utils.visualization import plot_sync_async_comparison\n",
    "\n",
    "STATS_CACHE.store.close()\n",
    "\n",
    "\n",
    "DS = DatasetType.IDEAL\n",
    "DURATION = DAY_IN_SEC*30\n",
    "MAX_GAP = 300\n",
    "\n",
    "# convert_to_nilmtk_format(DS)\n",
    "# clean_and_store_data(DS)\n",
    "# ideal = read_cleaned_data(DS)\n",
    "# process_stable_periods(DS, DURATION, MAX_GAP)\n",
    "\n",
    "full_keys = get_full_keys_of_stable_periods(DS)\n",
    "accumulated = read_stable_periods(DS, [full_keys[0]])[0]"
   ]
  },
  {
   "cell_type": "code",
   "execution_count": 3,
   "id": "8412f17d",
   "metadata": {},
   "outputs": [
    {
     "name": "stdout",
     "output_type": "stream",
     "text": [
      "[generating sync signals] finished in 0m 0.00s\n",
      "len(sync_signals) 25921\n",
      "[generating async signals] finished in 0m 0.36s\n",
      "len(async_signals) 25475\n"
     ]
    }
   ],
   "source": [
    "sync_signals = generate_sync_signals(accumulated, 100)\n",
    "print('len(sync_signals)', len(sync_signals))\n",
    "\n",
    "async_signals = generate_async_signals(accumulated, 60000)\n",
    "print('len(async_signals)', len(async_signals))"
   ]
  },
  {
   "cell_type": "code",
   "execution_count": null,
   "id": "1b6617b1",
   "metadata": {},
   "outputs": [],
   "source": []
  },
  {
   "cell_type": "code",
   "execution_count": null,
   "id": "09671591",
   "metadata": {},
   "outputs": [],
   "source": []
  },
  {
   "cell_type": "code",
   "execution_count": null,
   "id": "e6661888",
   "metadata": {},
   "outputs": [],
   "source": []
  },
  {
   "cell_type": "code",
   "execution_count": 19,
   "id": "eea1dcba",
   "metadata": {},
   "outputs": [],
   "source": [
    "import numpy as np\n",
    "import pandas as pd\n",
    "from numpy.polynomial.polynomial import Polynomial\n",
    "from scipy.interpolate import InterpolatedUnivariateSpline, splrep, PPoly\n",
    "from multiprocessing.pool import ThreadPool\n",
    "from multiprocessing import Pool\n",
    "\n",
    "from utils.preprocessing import datetime_index_to_floats\n",
    "from utils.timing import time_measure\n",
    "\n",
    "\n",
    "def fill_squared_coef_task(squared_coefs, interpolations, i):\n",
    "    p = Polynomial(interpolations.c[:, i][::-1]) / 100\n",
    "    p_squared = p ** 2\n",
    "    coefs_to_apply = p_squared.coef[::-1]\n",
    "    coefs_to_apply = np.pad(coefs_to_apply, (0, 3 - len(coefs_to_apply)))\n",
    "#     return coefs_to_apply\n",
    "    for ind, c in enumerate(coefs_to_apply):\n",
    "        squared_coefs[ind, i] = c\n",
    "\n",
    "        \n",
    "def fill_squared_coef_task_single_arg(arg):\n",
    "    fill_squared_coef_task(*arg)\n",
    "\n",
    "def accumulated_distance(original: pd.Series, generated: pd.Series):\n",
    "#     with time_measure(f'accumulated_distance'):\n",
    "    with time_measure(f'linear interpolation of diff', is_active=False):\n",
    "        f_dates_orig = datetime_index_to_floats(original.index)\n",
    "        f_dates_gen = datetime_index_to_floats(generated.index)\n",
    "        united_dates = f_dates_orig.union(f_dates_gen)\n",
    "        point_count = len(united_dates)\n",
    "\n",
    "        lin_orig = InterpolatedUnivariateSpline(f_dates_orig, original.values, k=1)\n",
    "        lin_gen = InterpolatedUnivariateSpline(f_dates_gen, generated.values, k=1)\n",
    "        all_values_orig = lin_orig(united_dates)\n",
    "        all_values_gen = lin_gen(united_dates)\n",
    "        diff = all_values_orig - all_values_gen\n",
    "\n",
    "        tck = splrep(united_dates, diff, k=1, s=0)\n",
    "        interpolations = PPoly.from_spline(tck)\n",
    "\n",
    "        assert interpolations.c.shape[0] == 2, 'must be linear'\n",
    "        assert interpolations.c.shape[1] == point_count + 1, 'interval count is wrong'\n",
    "\n",
    "    squared_coefs = np.empty((3, point_count + 1), dtype=np.float64)\n",
    "    with time_measure(f'interpolating squared'):\n",
    "        arguments = [(squared_coefs, interpolations, i) for i in range(point_count + 1)]\n",
    "#         for i in range(point_count + 1):\n",
    "#             fill_squared_coef_task(squared_coefs, interpolations, i)\n",
    "\n",
    "        THREAD_NUM = 8\n",
    "        with ThreadPool(THREAD_NUM) as pool:\n",
    "            pool.map(fill_squared_coef_task_single_arg, arguments, chunksize=point_count//THREAD_NUM)\n",
    "#             for i in range(0, point_count + 1):\n",
    "#                 _ = pool.apply_async(fill_squared_coef_task, (squared_coefs, interpolations, i))\n",
    "#             pool.close()\n",
    "#             pool.join()\n",
    "#             res = [pool.apply_async(fill_squared_coef_task, (squared_coefs, interpolations, i)) for i in range(point_count + 1)]\n",
    "#             for r in res:  \n",
    "#                 r.wait()\n",
    "#         pool.join()\n",
    "            \n",
    "#         with Pool(4) as pool:\n",
    "#             _ = pool.apply_async(fill_squared_coef_task, args=(squared_coefs, interpolations, i))\n",
    "#             pool.join()\n",
    "\n",
    "    squared_diffs = PPoly(squared_coefs, interpolations.x)\n",
    "        \n",
    "    with time_measure(f'integration', is_active=False):\n",
    "        distance = squared_diffs.integrate(united_dates[0], united_dates[-1])\n",
    "        print('distance')\n",
    "        print(distance)\n",
    "        return distance\n",
    "\n",
    "\n",
    "def consumption_rate_distance():\n",
    "    pass\n",
    "\n",
    "\n"
   ]
  },
  {
   "cell_type": "code",
   "execution_count": 20,
   "id": "44a9d822",
   "metadata": {},
   "outputs": [
    {
     "name": "stdout",
     "output_type": "stream",
     "text": [
      "[interpolating squared] finished in 0m 6.38s\n",
      "distance\n",
      "18933408.153005347\n"
     ]
    },
    {
     "data": {
      "text/plain": [
       "array(18933408.15300535)"
      ]
     },
     "execution_count": 20,
     "metadata": {},
     "output_type": "execute_result"
    }
   ],
   "source": [
    "accumulated_distance(accumulated[:30000], async_signals[:650])"
   ]
  },
  {
   "cell_type": "code",
   "execution_count": null,
   "id": "b216ae56",
   "metadata": {},
   "outputs": [],
   "source": []
  },
  {
   "cell_type": "code",
   "execution_count": null,
   "id": "05315b41",
   "metadata": {},
   "outputs": [],
   "source": []
  },
  {
   "cell_type": "code",
   "execution_count": null,
   "id": "455a8d9b",
   "metadata": {},
   "outputs": [],
   "source": []
  },
  {
   "cell_type": "code",
   "execution_count": 14,
   "id": "4dc80a85",
   "metadata": {},
   "outputs": [
    {
     "name": "stdout",
     "output_type": "stream",
     "text": [
      "[interpolating squared] finished in 0m 0.13s\n",
      "distance\n",
      "15512.302950351565\n",
      "[interpolating squared] finished in 0m 18.91s\n",
      "distance\n",
      "170770353926498.44\n"
     ]
    },
    {
     "data": {
      "text/plain": [
       "array(1.70770354e+14)"
      ]
     },
     "execution_count": 14,
     "metadata": {},
     "output_type": "execute_result"
    }
   ],
   "source": [
    "accumulated_distance(accumulated[:500], async_signals[:5])\n",
    "accumulated_distance(accumulated[:100000], async_signals[:1000])"
   ]
  },
  {
   "cell_type": "code",
   "execution_count": null,
   "id": "d852ceb1",
   "metadata": {},
   "outputs": [],
   "source": []
  },
  {
   "cell_type": "code",
   "execution_count": null,
   "id": "47c921d5",
   "metadata": {},
   "outputs": [],
   "source": []
  },
  {
   "cell_type": "code",
   "execution_count": 14,
   "id": "ab01f9e4",
   "metadata": {},
   "outputs": [
    {
     "name": "stdout",
     "output_type": "stream",
     "text": [
      "[interpolating squared] finished in 0m 0.08s\n",
      "distance\n",
      "15512.302950351565\n",
      "[interpolating squared] finished in 0m 17.01s\n",
      "distance\n",
      "170770353926498.44\n"
     ]
    },
    {
     "data": {
      "text/plain": [
       "array(1.70770354e+14)"
      ]
     },
     "execution_count": 14,
     "metadata": {},
     "output_type": "execute_result"
    }
   ],
   "source": [
    "accumulated_distance(accumulated[:500], async_signals[:5])\n",
    "accumulated_distance(accumulated[:100000], async_signals[:1000])\n",
    "# accumulated_distance(accumulated, async_signals)\n",
    "# accumulated_distance(accumulated, sync_signals)\n"
   ]
  },
  {
   "cell_type": "code",
   "execution_count": null,
   "id": "52a39be5",
   "metadata": {},
   "outputs": [],
   "source": [
    "# accumulated_distance(accumulated[:30000], async_signals[:650])\n",
    "# distance\n",
    "# 18933408.153005347\n",
    "# [accumulated_distance] finished in 0m 5.54s"
   ]
  },
  {
   "cell_type": "code",
   "execution_count": null,
   "id": "c502073d",
   "metadata": {},
   "outputs": [],
   "source": []
  },
  {
   "cell_type": "code",
   "execution_count": null,
   "id": "11ef1cd2",
   "metadata": {},
   "outputs": [],
   "source": []
  },
  {
   "cell_type": "code",
   "execution_count": 21,
   "id": "e61451d2",
   "metadata": {},
   "outputs": [],
   "source": [
    "from time import sleep, perf_counter\n",
    "\n",
    "def task(id):\n",
    "    print(f'Начинаем задачу {id}...')\n",
    "    sleep(1)\n",
    "    return f'Завершили задачу {id}'"
   ]
  },
  {
   "cell_type": "code",
   "execution_count": null,
   "id": "ae2afe4a",
   "metadata": {},
   "outputs": [],
   "source": [
    "\n",
    "with time_measure(f'integration'):\n",
    "    with Pool(4) as pool:\n",
    "        results = pool.map(task, range(4))\n",
    "        for result in results:\n",
    "            print(result)\n",
    "\n",
    "\n",
    "    # results = [task(i) for i in range(4)]\n",
    "    # for result in results:\n",
    "    #     print(result)\n",
    "\n"
   ]
  },
  {
   "cell_type": "code",
   "execution_count": null,
   "id": "613c0dc1",
   "metadata": {},
   "outputs": [],
   "source": []
  }
 ],
 "metadata": {
  "kernelspec": {
   "display_name": "venv",
   "language": "python",
   "name": "venv"
  },
  "language_info": {
   "codemirror_mode": {
    "name": "ipython",
    "version": 3
   },
   "file_extension": ".py",
   "mimetype": "text/x-python",
   "name": "python",
   "nbconvert_exporter": "python",
   "pygments_lexer": "ipython3",
   "version": "3.11.1"
  }
 },
 "nbformat": 4,
 "nbformat_minor": 5
}
