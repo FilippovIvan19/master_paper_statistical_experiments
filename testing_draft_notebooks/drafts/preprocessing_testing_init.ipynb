{
 "cells": [
  {
   "cell_type": "code",
   "execution_count": 2,
   "id": "1c1032c9",
   "metadata": {},
   "outputs": [
    {
     "data": {
      "text/plain": [
       "'C:\\\\Users\\\\fim19\\\\MY_FILES\\\\studying\\\\MIPT\\\\masters_paper\\\\work_with_data\\\\code'"
      ]
     },
     "execution_count": 2,
     "metadata": {},
     "output_type": "execute_result"
    }
   ],
   "source": [
    "import os\n",
    "os.chdir('../..')\n",
    "os.getcwd()"
   ]
  },
  {
   "cell_type": "code",
   "execution_count": 4,
   "id": "30ace6a7",
   "metadata": {},
   "outputs": [],
   "source": [
    "from os import listdir\n",
    "from nilmtk import STATS_CACHE\n",
    "\n",
    "from utils.constants import DatasetType\n",
    "from utils.data_reading import process_data, read_processed_data, convert_to_nilmtk_format\n",
    "from utils.preprocessing import generate_sync_signals\n",
    "from utils.timing import time_measure\n",
    "\n",
    "\n",
    "STATS_CACHE.store.close()"
   ]
  },
  {
   "cell_type": "code",
   "execution_count": 5,
   "id": "23a68c6c",
   "metadata": {},
   "outputs": [
    {
     "name": "stdout",
     "output_type": "stream",
     "text": [
      "[reading processed IDEAL dataset] finished in 1m 9.55s\n"
     ]
    }
   ],
   "source": [
    "ideal = read_processed_data(DatasetType.IDEAL)\n"
   ]
  },
  {
   "cell_type": "code",
   "execution_count": 6,
   "id": "8f17e05f",
   "metadata": {},
   "outputs": [],
   "source": [
    "data0 = next(iter(ideal.values()))"
   ]
  },
  {
   "cell_type": "code",
   "execution_count": 9,
   "id": "17ac4511",
   "metadata": {},
   "outputs": [
    {
     "name": "stdout",
     "output_type": "stream",
     "text": [
      "<class 'pandas.core.indexes.datetimes.DatetimeIndex'>\n"
     ]
    }
   ],
   "source": [
    "print(type(data0.index))"
   ]
  },
  {
   "cell_type": "code",
   "execution_count": 9,
   "id": "b7f65f31",
   "metadata": {},
   "outputs": [
    {
     "name": "stdout",
     "output_type": "stream",
     "text": [
      "[generating sync signals] finished in 1m 41.05s\n"
     ]
    }
   ],
   "source": [
    "\n",
    "# data0 = next(iter(ideal.values()))\n",
    "# print(type(data0))\n",
    "# print(data0)\n",
    "sync_signals = generate_sync_signals(data0, 5)"
   ]
  },
  {
   "cell_type": "code",
   "execution_count": 12,
   "id": "ce0e41b3",
   "metadata": {},
   "outputs": [
    {
     "name": "stdout",
     "output_type": "stream",
     "text": [
      "<class 'pandas.core.series.Series'>\n",
      "<class 'pandas.core.series.Series'>\n",
      "<class 'numpy.ndarray'>\n"
     ]
    }
   ],
   "source": [
    "\n",
    "# import pandas as pd\n",
    "# sync_signals = pd.Series(sync_signals)\n",
    "print(type(data0))\n",
    "# print(data0)\n",
    "print(type(sync_signals))\n",
    "# print(sync_signals)\n",
    "\n",
    "print(type(sync_signals.values[:20]))"
   ]
  },
  {
   "cell_type": "code",
   "execution_count": 18,
   "id": "6cb84c23",
   "metadata": {},
   "outputs": [
    {
     "name": "stdout",
     "output_type": "stream",
     "text": [
      "[  0 170 189 184 113 170 165 170 167  58 175 167 180 167 165 170  55  85\n",
      " 170 165 170 170 170 170 167 170 165 170 167 167 167  82  85 167 170 170\n",
      " 165 170 170 167 167 170 170 167 165 175 170 170 167   0 137 169 167 170\n",
      " 170 170 167 167 170 170 137 170 170 167 167 167 165 170 167 167 165 170\n",
      " 172 170 167 170 172 137 165 167 170 170 167 184 182 180 174 189 201 184\n",
      " 194 182 177 172 175 175 180 187 175 182]\n",
      "0 656 1386 2240 2885 3732 4571 5242 6084 6923 7605 8418 9262 10073 10909 11753 12564 13437 14365 15265 \n",
      "[  656  1386  2240  2885  3732  4571  5242  6084  6923  7605  8418  9262\n",
      " 10073 10909 11753 12564 13437 14365 15265 16164]\n"
     ]
    }
   ],
   "source": [
    "\n",
    "print(data0.values[:100])\n",
    "for i in range(20):\n",
    "    print(sum(data0.values[:5*i]), end=' ')\n",
    "print()\n",
    "print(sync_signals.values[:20])"
   ]
  },
  {
   "cell_type": "code",
   "execution_count": 10,
   "id": "7988365a",
   "metadata": {},
   "outputs": [
    {
     "name": "stdout",
     "output_type": "stream",
     "text": [
      "29935571 29935570\n",
      "5987114 5987114\n",
      "[generating sync signals] finished in 0m 9.15s\n"
     ]
    }
   ],
   "source": [
    "from utils.preprocessing import generate_sync_signals_new\n",
    "sync_signals1 = generate_sync_signals_new(data0, 5)"
   ]
  },
  {
   "cell_type": "code",
   "execution_count": 11,
   "id": "9b0b7eb4",
   "metadata": {},
   "outputs": [
    {
     "name": "stdout",
     "output_type": "stream",
     "text": [
      "[  656  1386  2240  2885  3732  4571  5242  6084  6923  7605  8418  9262\n",
      " 10073 10909 11753 12564 13437 14365 15265 16164]\n"
     ]
    }
   ],
   "source": [
    "\n",
    "print(sync_signals1.values[:20])"
   ]
  },
  {
   "cell_type": "code",
   "execution_count": null,
   "id": "f94e9e5a",
   "metadata": {},
   "outputs": [],
   "source": []
  },
  {
   "cell_type": "code",
   "execution_count": null,
   "id": "24deadca",
   "metadata": {},
   "outputs": [],
   "source": []
  },
  {
   "cell_type": "code",
   "execution_count": 13,
   "id": "f09a827a",
   "metadata": {},
   "outputs": [
    {
     "name": "stdout",
     "output_type": "stream",
     "text": [
      "[0.         0.36363636 0.72727273 1.09090909 1.45454545 1.81818182\n",
      " 2.18181818 2.54545455 2.90909091 3.27272727 3.63636364 4.        ] [-0.65364362 -0.61966189 -0.51077021 -0.31047698 -0.00715476  0.37976236\n",
      "  0.76715099  0.99239518  0.85886263  0.27994201 -0.52586509 -0.99582185]\n"
     ]
    }
   ],
   "source": [
    "import numpy as np\n",
    "from scipy import interpolate\n",
    "import matplotlib.pyplot as plt"
   ]
  },
  {
   "cell_type": "code",
   "execution_count": 27,
   "id": "54ca442e",
   "metadata": {},
   "outputs": [],
   "source": []
  },
  {
   "cell_type": "code",
   "execution_count": 55,
   "id": "72900c5f",
   "metadata": {},
   "outputs": [
    {
     "data": {
      "image/png": "[encoded data removed]",
      "text/plain": [
       "<Figure size 640x480 with 1 Axes>"
      ]
     },
     "metadata": {},
     "output_type": "display_data"
    }
   ],
   "source": [
    "x = np.linspace(0, 4, 4)\n",
    "y = np.cos(x**2/3+4)\n",
    "xnew = np.linspace(0, 4, 30)\n",
    "\n",
    "f1 = interpolate.CubicSpline(x, y)\n",
    "f2 = interpolate.PchipInterpolator(x, y)\n",
    "\n",
    "plt.plot(x, y, 'o', xnew, np.cos(xnew**2/3+4), ':', xnew, f1(xnew), '-', xnew, f2(xnew), '--')\n",
    "plt.legend(['data', 'real', 'cubic', 'Pchip'], loc = 'best')\n",
    "plt.show()\n",
    "\n",
    "# ‘linear’, ‘nearest’, ‘nearest-up’, ‘zero’, ‘slinear’, ‘quadratic’, ‘cubic’, ‘previous’, or ‘next’"
   ]
  },
  {
   "cell_type": "code",
   "execution_count": 10,
   "id": "e10623f4",
   "metadata": {},
   "outputs": [
    {
     "data": {
      "image/png": "[encoded data removed]",
      "text/plain": [
       "<Figure size 640x480 with 1 Axes>"
      ]
     },
     "metadata": {},
     "output_type": "display_data"
    }
   ],
   "source": [
    "import numpy as np\n",
    "import pandas as pd\n",
    "from scipy.interpolate import PchipInterpolator  # PCHIP 1-D monotonic cubic interpolation\n",
    "from scipy.interpolate import CubicSpline, UnivariateSpline, InterpolatedUnivariateSpline, splrep, splev, PPoly\n",
    "import matplotlib.pyplot as plt\n",
    "\n",
    "x = np.linspace(0, 10, 10)\n",
    "y = np.cos(x**2/3+4)\n",
    "xnew = np.linspace(0, 10, 75)\n",
    "\n",
    "tck = splrep(x, y, k=1, s=0)\n",
    "f1 = PPoly.from_spline(tck)\n",
    "f2 = InterpolatedUnivariateSpline(x, y, k=1)\n",
    "\n",
    "plt.plot(x, y, 'o', xnew, np.cos(xnew**2/3+4), ':', xnew, f1(xnew), '-', xnew, f2(xnew), '--')\n",
    "plt.legend(['data', 'real', 'PPoly', 'InterpolatedUnivariateSpline'], loc = 'best')\n",
    "plt.show()"
   ]
  },
  {
   "cell_type": "code",
   "execution_count": null,
   "id": "362550af",
   "metadata": {},
   "outputs": [],
   "source": []
  },
  {
   "cell_type": "code",
   "execution_count": null,
   "id": "25d3bcf9",
   "metadata": {},
   "outputs": [],
   "source": []
  },
  {
   "cell_type": "code",
   "execution_count": 4,
   "id": "c672a4d4",
   "metadata": {},
   "outputs": [],
   "source": [
    "DAY_IN_SEC = 60 * 60 * 24\n",
    "import numpy as np"
   ]
  },
  {
   "cell_type": "code",
   "execution_count": 5,
   "id": "dd26e4dc",
   "metadata": {},
   "outputs": [
    {
     "name": "stdout",
     "output_type": "stream",
     "text": [
      "[getting stable periods] finished in 1m 45.38s\n",
      "(6141816, 6226670)\n"
     ]
    }
   ],
   "source": [
    "from utils.preprocessing import generate_sync_signals, get_stable_periods\n",
    "\n",
    "int_dates = data0.index.astype(np.int64) // 10**9\n",
    "periods = get_stable_periods(int_dates, duration=DAY_IN_SEC, max_gap=5)\n",
    "print(periods[0])"
   ]
  },
  {
   "cell_type": "code",
   "execution_count": 70,
   "id": "e08a1732",
   "metadata": {},
   "outputs": [
    {
     "data": {
      "text/plain": [
       "84854"
      ]
     },
     "execution_count": 70,
     "metadata": {},
     "output_type": "execute_result"
    }
   ],
   "source": [
    "6226670 - 6141816"
   ]
  },
  {
   "cell_type": "code",
   "execution_count": 64,
   "id": "cef7d4e6",
   "metadata": {},
   "outputs": [
    {
     "data": {
      "text/plain": [
       "86400"
      ]
     },
     "execution_count": 64,
     "metadata": {},
     "output_type": "execute_result"
    }
   ],
   "source": [
    "DAY_IN_SEC"
   ]
  },
  {
   "cell_type": "code",
   "execution_count": 6,
   "id": "353b3096",
   "metadata": {},
   "outputs": [
    {
     "name": "stdout",
     "output_type": "stream",
     "text": [
      "<class 'pandas.core.series.Series'> 84854\n"
     ]
    }
   ],
   "source": [
    "period_slice = slice(periods[0][0], periods[0][1])\n",
    "stable_period = data0.iloc[period_slice]\n",
    "print(type(stable_period), len(stable_period))"
   ]
  },
  {
   "cell_type": "code",
   "execution_count": 74,
   "id": "b1462130",
   "metadata": {},
   "outputs": [
    {
     "data": {
      "text/plain": [
       "(1499609440, 1499695839)"
      ]
     },
     "execution_count": 74,
     "metadata": {},
     "output_type": "execute_result"
    }
   ],
   "source": [
    "dates = stable_period.index.astype(np.int64) // 10**9\n",
    "dates[0], dates[-1]"
   ]
  },
  {
   "cell_type": "code",
   "execution_count": 76,
   "id": "94f4b573",
   "metadata": {},
   "outputs": [
    {
     "data": {
      "text/plain": [
       "86400"
      ]
     },
     "execution_count": 76,
     "metadata": {},
     "output_type": "execute_result"
    }
   ],
   "source": [
    "1499695839-1499609440+1"
   ]
  },
  {
   "cell_type": "code",
   "execution_count": 91,
   "id": "a1f02166",
   "metadata": {},
   "outputs": [
    {
     "data": {
      "text/plain": [
       "Timestamp('2017-07-09 15:10:40+0100', tz='Europe/London')"
      ]
     },
     "execution_count": 91,
     "metadata": {},
     "output_type": "execute_result"
    }
   ],
   "source": [
    "stable_period.index[0]"
   ]
  },
  {
   "cell_type": "code",
   "execution_count": 89,
   "id": "ed613fd4",
   "metadata": {},
   "outputs": [
    {
     "data": {
      "text/plain": [
       "Timestamp('2017-07-09 15:10:40+0100', tz='Europe/London')"
      ]
     },
     "execution_count": 89,
     "metadata": {},
     "output_type": "execute_result"
    }
   ],
   "source": [
    "import pandas as pd\n",
    "pd.Timestamp(1499609440, unit='s', tz=stable_period.index[0].tz)"
   ]
  },
  {
   "cell_type": "code",
   "execution_count": null,
   "id": "be9c3910",
   "metadata": {},
   "outputs": [],
   "source": [
    "1499609440"
   ]
  },
  {
   "cell_type": "code",
   "execution_count": 7,
   "id": "0203cc8d",
   "metadata": {},
   "outputs": [],
   "source": [
    "from utils.preprocessing import interpolate_missed_data"
   ]
  },
  {
   "cell_type": "code",
   "execution_count": 11,
   "id": "3a3f0d0c",
   "metadata": {},
   "outputs": [
    {
     "name": "stdout",
     "output_type": "stream",
     "text": [
      "[interpolation] finished in 0m 0.05s\n"
     ]
    }
   ],
   "source": [
    "interpolated = interpolate_missed_data(stable_period)"
   ]
  },
  {
   "cell_type": "code",
   "execution_count": 15,
   "id": "c9c7c204",
   "metadata": {},
   "outputs": [
    {
     "data": {
      "text/plain": [
       "Timestamp('2017-07-09 15:10:40+0100', tz='Europe/London')"
      ]
     },
     "execution_count": 15,
     "metadata": {},
     "output_type": "execute_result"
    }
   ],
   "source": [
    "interpolated.index[0]"
   ]
  },
  {
   "cell_type": "code",
   "execution_count": 16,
   "id": "c39c9a76",
   "metadata": {},
   "outputs": [
    {
     "data": {
      "text/plain": [
       "86400"
      ]
     },
     "execution_count": 16,
     "metadata": {},
     "output_type": "execute_result"
    }
   ],
   "source": [
    "len(interpolated.values)"
   ]
  },
  {
   "cell_type": "code",
   "execution_count": null,
   "id": "85e0de7b",
   "metadata": {},
   "outputs": [],
   "source": []
  },
  {
   "cell_type": "code",
   "execution_count": null,
   "id": "12c2e674",
   "metadata": {},
   "outputs": [],
   "source": []
  },
  {
   "cell_type": "code",
   "execution_count": 9,
   "id": "dbf3c880",
   "metadata": {},
   "outputs": [],
   "source": [
    "import numpy as np\n",
    "import pandas as pd\n",
    "from scipy.interpolate import PchipInterpolator  # PCHIP 1-D monotonic cubic interpolation\n",
    "\n",
    "from utils.constants import MONTH_IN_SEC\n",
    "from utils.timing import time_measure"
   ]
  },
  {
   "cell_type": "code",
   "execution_count": 10,
   "id": "94021af2",
   "metadata": {},
   "outputs": [],
   "source": [
    "\n",
    "def interpolate_missed_data(data: pd.Series):\n",
    "    with time_measure(f'interpolation'):\n",
    "        dates = data.index.astype(np.int64) // 10 ** 9\n",
    "        all_dates = np.arange(dates[0], dates[-1] + 1)\n",
    "        interpolation_func = PchipInterpolator(dates, data.values)\n",
    "        formatted_dates = pd.to_datetime(all_dates, unit='s', utc=True).tz_convert(tz=data.index[0].tz)\n",
    "        return pd.Series(interpolation_func(all_dates), index=formatted_dates)"
   ]
  },
  {
   "cell_type": "code",
   "execution_count": null,
   "id": "2664ef87",
   "metadata": {},
   "outputs": [],
   "source": []
  },
  {
   "cell_type": "code",
   "execution_count": 19,
   "id": "5ab8472e",
   "metadata": {},
   "outputs": [
    {
     "name": "stdout",
     "output_type": "stream",
     "text": [
      "[getting stable periods] finished in 1m 27.60s\n"
     ]
    }
   ],
   "source": [
    "periods = get_stable_periods(int_dates, duration=DAY_IN_SEC, max_gap=5)"
   ]
  },
  {
   "cell_type": "code",
   "execution_count": 20,
   "id": "d3fd7ee3",
   "metadata": {},
   "outputs": [
    {
     "data": {
      "text/plain": [
       "[(719739, 1299992),\n",
       " (2448499, 3039642),\n",
       " (3629449, 4216714),\n",
       " (4401257, 4987445),\n",
       " (5070375, 5655633),\n",
       " (6423572, 7017032),\n",
       " (7919164, 8504516),\n",
       " (9196316, 9785594),\n",
       " (9785594, 10370541),\n",
       " (11670680, 12261303),\n",
       " (12303608, 12889296),\n",
       " (13396880, 13989655),\n",
       " (15276052, 15864883),\n",
       " (16860211, 17455493),\n",
       " (17455493, 18048502),\n",
       " (18048502, 18643868),\n",
       " (20622937, 21217046),\n",
       " (24908900, 25498507)]"
      ]
     },
     "execution_count": 20,
     "metadata": {},
     "output_type": "execute_result"
    }
   ],
   "source": [
    "periods"
   ]
  },
  {
   "cell_type": "code",
   "execution_count": 24,
   "id": "40be8f5c",
   "metadata": {},
   "outputs": [
    {
     "name": "stdout",
     "output_type": "stream",
     "text": [
      "[getting stable periods] finished in 1m 26.19s\n"
     ]
    },
    {
     "data": {
      "text/plain": [
       "[(5796083, 8330060), (11670680, 14198823), (15183697, 17710278)]"
      ]
     },
     "execution_count": 24,
     "metadata": {},
     "output_type": "execute_result"
    }
   ],
   "source": [
    "new_periods = get_stable_periods(int_dates, duration=DAY_IN_SEC*30, max_gap=60*5)\n",
    "new_periods"
   ]
  },
  {
   "cell_type": "code",
   "execution_count": 23,
   "id": "d1d0db74",
   "metadata": {},
   "outputs": [
    {
     "data": {
      "text/plain": [
       "slice(9196316, 10370541, None)"
      ]
     },
     "execution_count": 23,
     "metadata": {},
     "output_type": "execute_result"
    }
   ],
   "source": [
    "sl = slice(*new_periods[0])\n",
    "sl"
   ]
  },
  {
   "cell_type": "code",
   "execution_count": null,
   "id": "73c10884",
   "metadata": {},
   "outputs": [],
   "source": [
    "periods = get_stable_periods(int_dates, duration=DAY_IN_SEC*7, max_gap=60)"
   ]
  },
  {
   "cell_type": "code",
   "execution_count": null,
   "id": "ac340c87",
   "metadata": {},
   "outputs": [],
   "source": []
  },
  {
   "cell_type": "code",
   "execution_count": null,
   "id": "a790ea0d",
   "metadata": {},
   "outputs": [],
   "source": []
  },
  {
   "cell_type": "code",
   "execution_count": 1,
   "id": "328ba762",
   "metadata": {},
   "outputs": [],
   "source": [
    "import numpy as np\n",
    "from nilmtk import STATS_CACHE\n",
    "\n",
    "from utils.constants import DatasetType, DAY_IN_SEC\n",
    "from utils.data_reading import process_data, read_processed_data, convert_to_nilmtk_format\n",
    "from utils.preprocessing import generate_sync_signals, get_stable_periods, \\\n",
    "    interpolate_missed_data, generate_async_signals, reformat_to_accumulated\n",
    "from utils.timing import time_measure\n",
    "\n",
    "STATS_CACHE.store.close()"
   ]
  },
  {
   "cell_type": "code",
   "execution_count": 2,
   "id": "6b62a65b",
   "metadata": {},
   "outputs": [
    {
     "name": "stdout",
     "output_type": "stream",
     "text": [
      "[reading processed IDEAL dataset] finished in 1m 10.99s\n"
     ]
    }
   ],
   "source": [
    "ideal = read_processed_data(DatasetType.IDEAL)"
   ]
  },
  {
   "cell_type": "code",
   "execution_count": 43,
   "id": "88d61f78",
   "metadata": {},
   "outputs": [
    {
     "name": "stdout",
     "output_type": "stream",
     "text": [
      "2017-10-29 01:59:55+01:00 Europe/London 1509238795.0\n",
      "2017-10-29 01:59:56+01:00 Europe/London 1509238796.0\n",
      "2017-10-29 01:59:57+01:00 Europe/London 1509238797.0\n",
      "2017-10-29 01:59:58+01:00 Europe/London 1509238798.0\n",
      "2017-10-29 01:59:59+01:00 Europe/London 1509238799.0\n",
      "2017-10-29 01:00:00+00:00 Europe/London 1509238800.0\n",
      "2017-10-29 01:00:01+00:00 Europe/London 1509238801.0\n",
      "2017-10-29 01:00:02+00:00 Europe/London 1509238802.0\n",
      "2017-10-29 01:00:03+00:00 Europe/London 1509238803.0\n",
      "2017-10-29 01:00:04+00:00 Europe/London 1509238804.0\n",
      "\n"
     ]
    }
   ],
   "source": [
    "start = DAY_IN_SEC*178 + 60*60*7 + 60*29 + 37\n",
    "length = 10\n",
    "\n",
    "iterator = iter(ideal.values())\n",
    "for i in range(1):\n",
    "#     dates = next(iterator).index[::DAY_IN_SEC*30]\n",
    "    dates = next(iterator).index[start: start + length]\n",
    "    for d in dates:\n",
    "        print(d, d.tz, d.timestamp())\n",
    "#     print(dates[0])\n",
    "#     print(list(dates.tz))\n",
    "    print()"
   ]
  },
  {
   "cell_type": "code",
   "execution_count": 44,
   "id": "f875d0a4",
   "metadata": {},
   "outputs": [],
   "source": [
    "data0 = next(iter(ideal.values()))"
   ]
  },
  {
   "cell_type": "code",
   "execution_count": 45,
   "id": "f453bb85",
   "metadata": {},
   "outputs": [
    {
     "data": {
      "text/plain": [
       "2017-10-29 01:59:55+01:00    184\n",
       "2017-10-29 01:59:56+01:00    182\n",
       "2017-10-29 01:59:57+01:00    184\n",
       "2017-10-29 01:59:58+01:00    182\n",
       "2017-10-29 01:59:59+01:00    182\n",
       "2017-10-29 01:00:00+00:00    182\n",
       "2017-10-29 01:00:01+00:00    184\n",
       "2017-10-29 01:00:02+00:00    184\n",
       "2017-10-29 01:00:03+00:00    182\n",
       "2017-10-29 01:00:04+00:00    184\n",
       "Name: (power, apparent), dtype: int64"
      ]
     },
     "execution_count": 45,
     "metadata": {},
     "output_type": "execute_result"
    }
   ],
   "source": [
    "sl = data0[start: start + length]\n",
    "sl"
   ]
  },
  {
   "cell_type": "code",
   "execution_count": 46,
   "id": "9292b473",
   "metadata": {},
   "outputs": [
    {
     "name": "stdout",
     "output_type": "stream",
     "text": [
      "[interpolation] finished in 0m 0.05s\n",
      "[reformatting to accumulated] finished in 0m 0.01s\n",
      "[generating async signals] finished in 0m 0.01s\n"
     ]
    },
    {
     "data": {
      "text/plain": [
       "2017-10-29 01:59:54+01:00                 0\n",
       "2017-10-29 01:59:54.542114304+01:00     100\n",
       "2017-10-29 01:59:55.087551488+01:00     200\n",
       "2017-10-29 01:59:55.637708800+01:00     300\n",
       "2017-10-29 01:59:56.185302528+01:00     400\n",
       "2017-10-29 01:59:56.727766528+01:00     500\n",
       "2017-10-29 01:59:57.273936896+01:00     600\n",
       "2017-10-29 01:59:57.824036864+01:00     700\n",
       "2017-10-29 01:59:58.373626368+01:00     800\n",
       "2017-10-29 01:59:58.923076864+01:00     900\n",
       "2017-10-29 01:59:59.473169920+01:00    1000\n",
       "2017-10-29 01:00:00.021852928+00:00    1100\n",
       "2017-10-29 01:00:00.565802240+00:00    1200\n",
       "2017-10-29 01:00:01.108637952+00:00    1300\n",
       "2017-10-29 01:00:01.651364096+00:00    1400\n",
       "2017-10-29 01:00:02.197278976+00:00    1500\n",
       "2017-10-29 01:00:02.747762176+00:00    1600\n",
       "2017-10-29 01:00:03.294616576+00:00    1700\n",
       "2017-10-29 01:00:03.837709312+00:00    1800\n",
       "dtype: int32"
      ]
     },
     "execution_count": 46,
     "metadata": {},
     "output_type": "execute_result"
    }
   ],
   "source": [
    "interpolated = interpolate_missed_data(sl, duration=length)\n",
    "accumulated = reformat_to_accumulated(interpolated)\n",
    "\n",
    "async_signals = generate_async_signals(accumulated, 100)\n",
    "async_signals"
   ]
  },
  {
   "cell_type": "code",
   "execution_count": 47,
   "id": "7faa552c",
   "metadata": {},
   "outputs": [
    {
     "name": "stdout",
     "output_type": "stream",
     "text": [
      "[getting stable periods] finished in 0m 29.04s\n"
     ]
    },
    {
     "data": {
      "text/plain": [
       "[slice(719739, 1299992, None),\n",
       " slice(2448499, 3039642, None),\n",
       " slice(3629449, 4216714, None),\n",
       " slice(4401257, 4987445, None),\n",
       " slice(5070375, 5655633, None),\n",
       " slice(6423572, 7017032, None),\n",
       " slice(7919164, 8504516, None),\n",
       " slice(9196316, 9785594, None),\n",
       " slice(9785594, 10370541, None),\n",
       " slice(11670680, 12261303, None),\n",
       " slice(12303608, 12889296, None),\n",
       " slice(13396880, 13989655, None),\n",
       " slice(15276052, 15864883, None),\n",
       " slice(16860211, 17455493, None),\n",
       " slice(17455493, 18048502, None),\n",
       " slice(18048502, 18643868, None),\n",
       " slice(20622937, 21217046, None),\n",
       " slice(24908900, 25498507, None)]"
      ]
     },
     "execution_count": 47,
     "metadata": {},
     "output_type": "execute_result"
    }
   ],
   "source": [
    "\n",
    "periods = get_stable_periods(data0, duration=DAY_IN_SEC*7, max_gap=60)\n",
    "periods"
   ]
  },
  {
   "cell_type": "code",
   "execution_count": null,
   "id": "47fdd179",
   "metadata": {},
   "outputs": [],
   "source": []
  },
  {
   "cell_type": "code",
   "execution_count": null,
   "id": "4db55ff6",
   "metadata": {},
   "outputs": [],
   "source": []
  },
  {
   "cell_type": "code",
   "execution_count": null,
   "id": "61fd1446",
   "metadata": {},
   "outputs": [],
   "source": []
  },
  {
   "cell_type": "code",
   "execution_count": null,
   "id": "0fa1111d",
   "metadata": {},
   "outputs": [],
   "source": []
  }
 ],
 "metadata": {
  "kernelspec": {
   "display_name": "venv",
   "language": "python",
   "name": "venv"
  },
  "language_info": {
   "codemirror_mode": {
    "name": "ipython",
    "version": 3
   },
   "file_extension": ".py",
   "mimetype": "text/x-python",
   "name": "python",
   "nbconvert_exporter": "python",
   "pygments_lexer": "ipython3",
   "version": "3.11.1"
  }
 },
 "nbformat": 4,
 "nbformat_minor": 5
}
