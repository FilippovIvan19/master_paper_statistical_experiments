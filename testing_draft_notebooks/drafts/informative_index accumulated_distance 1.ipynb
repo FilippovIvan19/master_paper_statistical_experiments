{
 "cells": [
  {
   "cell_type": "code",
   "execution_count": 1,
   "id": "fd7e17ea",
   "metadata": {},
   "outputs": [],
   "source": [
    "import os\n",
    "os.chdir('../..')"
   ]
  },
  {
   "cell_type": "code",
   "execution_count": 2,
   "id": "5885e96c",
   "metadata": {},
   "outputs": [
    {
     "name": "stdout",
     "output_type": "stream",
     "text": [
      "[reading 1 stable periods of IDEAL] finished in 0m 0.14s\n"
     ]
    }
   ],
   "source": [
    "import numpy as np\n",
    "from nilmtk import STATS_CACHE\n",
    "\n",
    "from utils.constants import DatasetType, DAY_IN_SEC\n",
    "from utils.data_reading import clean_and_store_data, read_cleaned_data, \\\n",
    "    convert_to_nilmtk_format, store_processed_stable_periods, \\\n",
    "    get_full_keys_of_stable_periods, read_stable_periods\n",
    "from utils.preprocessing import generate_sync_signals, get_stable_periods, \\\n",
    "    interpolate_missed_data, generate_async_signals, reformat_to_accumulated\n",
    "from utils.timing import time_measure\n",
    "from utils.visualization import plot_sync_async_comparison\n",
    "\n",
    "STATS_CACHE.store.close()\n",
    "\n",
    "\n",
    "DS = DatasetType.IDEAL\n",
    "DURATION = DAY_IN_SEC*30\n",
    "MAX_GAP = 300\n",
    "\n",
    "# convert_to_nilmtk_format(DS)\n",
    "# clean_and_store_data(DS)\n",
    "# ideal = read_cleaned_data(DS)\n",
    "# process_stable_periods(DS, DURATION, MAX_GAP)\n",
    "\n",
    "full_keys = get_full_keys_of_stable_periods(DS)\n",
    "accumulated = read_stable_periods(DS, [full_keys[0]])[0]"
   ]
  },
  {
   "cell_type": "code",
   "execution_count": 3,
   "id": "c083a8cb",
   "metadata": {},
   "outputs": [
    {
     "name": "stdout",
     "output_type": "stream",
     "text": [
      "[generating sync signals] finished in 0m 0.00s\n",
      "len(sync_signals) 25921\n",
      "[generating async signals] finished in 0m 0.41s\n",
      "len(async_signals) 25475\n"
     ]
    }
   ],
   "source": [
    "sync_signals = generate_sync_signals(accumulated, 100)\n",
    "print('len(sync_signals)', len(sync_signals))\n",
    "\n",
    "async_signals = generate_async_signals(accumulated, 60000)\n",
    "print('len(async_signals)', len(async_signals))"
   ]
  },
  {
   "cell_type": "code",
   "execution_count": 8,
   "id": "45579b5e",
   "metadata": {},
   "outputs": [],
   "source": [
    "import numpy as np\n",
    "import pandas as pd\n",
    "from scipy.interpolate import PchipInterpolator  # PCHIP 1-D monotonic cubic interpolation\n",
    "from scipy.interpolate import CubicSpline, UnivariateSpline, InterpolatedUnivariateSpline, splrep, splev, PPoly\n",
    "from scipy.integrate import quad as integrate\n",
    "from numpy.polynomial.polynomial import Polynomial\n",
    "\n",
    "from utils.constants import MONTH_IN_SEC\n",
    "from utils.preprocessing import datetime_index_to_floats\n",
    "from utils.timing import time_measure\n",
    "import matplotlib.pyplot as plt\n",
    "\n",
    "\n",
    "def accumulated_distance(original: pd.Series, generated: pd.Series):\n",
    "    with time_measure(f'accumulated_distance'):\n",
    "        f_dates_orig = datetime_index_to_floats(original.index)\n",
    "        f_dates_gen = datetime_index_to_floats(generated.index)\n",
    "        united_dates = f_dates_orig.union(f_dates_gen)\n",
    "        lin_orig = InterpolatedUnivariateSpline(f_dates_orig, original.values, k=1)\n",
    "        lin_gen = InterpolatedUnivariateSpline(f_dates_gen, generated.values, k=1)\n",
    "        all_values_orig = lin_orig(united_dates)\n",
    "        all_values_gen = lin_gen(united_dates)\n",
    "        diff = all_values_orig - all_values_gen\n",
    "        \n",
    "#         print('diff')\n",
    "#         print(diff)\n",
    "        \n",
    "#         print('gen1', generated.values[1])\n",
    "#         print(f_dates_gen)\n",
    "        \n",
    "#         print('dates')\n",
    "#         print(united_dates)\n",
    "#         print('diff')\n",
    "#         print(diff)\n",
    "#         lin_diff = InterpolatedUnivariateSpline(united_dates, diff, k=1)\n",
    "\n",
    "        point_count = len(united_dates)\n",
    "        \n",
    "        tck = splrep(united_dates, diff, k=1, s=0)\n",
    "        interpolations = PPoly.from_spline(tck)\n",
    "\n",
    "#         print('coefs')\n",
    "#         print(interpolations.c)\n",
    "#         print('interpolations.x')\n",
    "#         print(interpolations.x / 10**6)\n",
    "#         print()\n",
    "        \n",
    "        assert interpolations.c.shape[0] == 2, 'must be linear'\n",
    "        assert interpolations.c.shape[1] == point_count + 1\n",
    "        \n",
    "        squared_coefs = np.empty((3, point_count + 1), dtype=np.float64)\n",
    "        xs = interpolations.x[1:-1]\n",
    "#         for i in range(point_count - 1):\n",
    "        for i in range(point_count + 1):\n",
    "            p = Polynomial(interpolations.c[:, i][::-1]) / 100\n",
    "            p_squared = p ** 2\n",
    "#             print('p.coef')\n",
    "#             print(interpolations.c[:, i][::-1])\n",
    "#             print('p.coef')\n",
    "#             print(p.coef)\n",
    "#             print('p_squared.coef')\n",
    "#             print(p_squared.coef)\n",
    "#             print('squared_coefs[None, i]')\n",
    "#             print(squared_coefs[None, i])\n",
    "            coefs_to_apply = p_squared.coef[::-1]\n",
    "            coefs_to_apply = np.pad(coefs_to_apply, (0, 3 - len(coefs_to_apply)))\n",
    "#             print(type(coefs_to_apply))\n",
    "            for ind, c in enumerate(coefs_to_apply):\n",
    "                squared_coefs[ind, i] = c\n",
    "#             interval = np.linspace(interpolations.x[i], interpolations.x[i+1], 10)\n",
    "#             plt.plot(interval, p(interval-interpolations.x[i]), '--', label='Polynomial')\n",
    "#             plt.plot(interval, p_squared(interval-interpolations.x[i]), ':', label='Polynomial squared')\n",
    "        \n",
    "#         plt.plot(f_dates_orig, original.values, 'o', label='orig')\n",
    "#         plt.plot(f_dates_gen, generated.values, 'o', label='gen')\n",
    "#         plt.plot(united_dates, all_values_orig, '--', label='orig_lin')\n",
    "#         plt.plot(united_dates, all_values_gen, ':', label='gen_lin')\n",
    "        \n",
    "#         plt.plot(united_dates, diff, 'o', label='diff')\n",
    "#         plt.plot(united_dates, ppoly(united_dates), 'x:', label='ppoly')\n",
    "#         plt.legend(loc = 'best')\n",
    "#         plt.show()\n",
    "        \n",
    "        squared_diffs = PPoly(squared_coefs, interpolations.x)\n",
    "\n",
    "#         print('squared_coefs')\n",
    "#         print(squared_coefs)\n",
    "#         print('xs')\n",
    "#         print(xs / 10**6)\n",
    "#         print()\n",
    "\n",
    "#         print('squared_diffs.c')\n",
    "#         print(squared_diffs.c)\n",
    "#         print('squared_diffs.x')\n",
    "#         print(squared_diffs.x / 10**6)\n",
    "        \n",
    "        distance = squared_diffs.integrate(united_dates[0], united_dates[-1])\n",
    "        print('distance')\n",
    "        print(distance)\n",
    "        \n",
    "        \n",
    "        \n",
    "#         return squared_diffs\n",
    "    # with time_measure(f'integrating'):\n",
    "    #     dist = integrate(lambda x: abs(lin_orig(x) - lin_gen(x)),\n",
    "    #                      united_dates[0], united_dates[-1],\n",
    "    #                      points=united_dates, limit=len(united_dates) + 10)\n",
    "    # return dist\n",
    "\n",
    "\n",
    "\n",
    "\n",
    "def consumption_rate_distance():\n",
    "    pass\n",
    "\n",
    "\n"
   ]
  },
  {
   "cell_type": "code",
   "execution_count": 7,
   "id": "807160da",
   "metadata": {},
   "outputs": [
    {
     "name": "stdout",
     "output_type": "stream",
     "text": [
      "[[1.93526904e+01 1.93526904e+01 1.19212701e-02 ... 3.13493529e+01\n",
      "  3.13493531e+01 3.13493531e+01]\n",
      " [0.00000000e+00 0.00000000e+00 9.60642802e-01 ... 1.99871501e+06\n",
      "  1.99877771e+06 1.99884041e+06]\n",
      " [0.00000000e+00 0.00000000e+00 1.93526904e+01 ... 3.18576088e+10\n",
      "  3.18596075e+10 3.18616064e+10]]\n",
      "distance\n",
      "170770353926498.44\n",
      "[accumulated_distance] finished in 0m 16.28s\n"
     ]
    }
   ],
   "source": [
    "accumulated_distance(accumulated[:100000], async_signals[:1000])"
   ]
  },
  {
   "cell_type": "code",
   "execution_count": 9,
   "id": "4e6f083a",
   "metadata": {},
   "outputs": [
    {
     "name": "stdout",
     "output_type": "stream",
     "text": [
      "distance\n",
      "1390055122.5904725\n",
      "[accumulated_distance] finished in 7m 48.17s\n"
     ]
    }
   ],
   "source": [
    "accumulated_distance(accumulated, async_signals)"
   ]
  },
  {
   "cell_type": "code",
   "execution_count": 10,
   "id": "de609fc4",
   "metadata": {},
   "outputs": [
    {
     "name": "stdout",
     "output_type": "stream",
     "text": [
      "distance\n",
      "18933408.153005347\n",
      "[accumulated_distance] finished in 0m 4.46s\n"
     ]
    }
   ],
   "source": [
    "accumulated_distance(accumulated[:30000], async_signals[:650])"
   ]
  },
  {
   "cell_type": "code",
   "execution_count": null,
   "id": "827ea3c0",
   "metadata": {},
   "outputs": [],
   "source": []
  },
  {
   "cell_type": "code",
   "execution_count": null,
   "id": "78dc1fac",
   "metadata": {},
   "outputs": [],
   "source": []
  },
  {
   "cell_type": "code",
   "execution_count": null,
   "id": "a5d52424",
   "metadata": {},
   "outputs": [],
   "source": []
  },
  {
   "cell_type": "code",
   "execution_count": 238,
   "id": "c66e039a",
   "metadata": {},
   "outputs": [
    {
     "name": "stdout",
     "output_type": "stream",
     "text": [
      "distance\n",
      "15512.302950351565\n",
      "[accumulated_distance] finished in 0m 0.03s\n",
      "distance\n",
      "1390055122.5904725\n",
      "[accumulated_distance] finished in 1m 59.74s\n"
     ]
    }
   ],
   "source": [
    "# accumulated_distance(accumulated[:len(accumulated)//1000], async_signals[:len(async_signals)//1000])\n",
    "accumulated_distance(accumulated[:500], async_signals[:5])\n",
    "accumulated_distance(accumulated, async_signals)\n",
    "# accumulated_distance(accumulated[:50], accumulated[:50])"
   ]
  },
  {
   "cell_type": "code",
   "execution_count": 239,
   "id": "d3caf146",
   "metadata": {},
   "outputs": [
    {
     "name": "stdout",
     "output_type": "stream",
     "text": [
      "distance\n",
      "6760747951.956481\n",
      "[accumulated_distance] finished in 1m 59.98s\n"
     ]
    }
   ],
   "source": [
    "accumulated_distance(accumulated, sync_signals)"
   ]
  },
  {
   "cell_type": "code",
   "execution_count": 240,
   "id": "6757a45c",
   "metadata": {},
   "outputs": [
    {
     "data": {
      "text/plain": [
       "0.2056067069011509"
      ]
     },
     "execution_count": 240,
     "metadata": {},
     "output_type": "execute_result"
    }
   ],
   "source": [
    "1390055122.5904725 / 6760747951.956481"
   ]
  },
  {
   "cell_type": "code",
   "execution_count": null,
   "id": "ac5f373b",
   "metadata": {},
   "outputs": [],
   "source": []
  },
  {
   "cell_type": "code",
   "execution_count": null,
   "id": "b7449327",
   "metadata": {},
   "outputs": [],
   "source": []
  },
  {
   "cell_type": "code",
   "execution_count": 157,
   "id": "85fd67cf",
   "metadata": {},
   "outputs": [
    {
     "name": "stdout",
     "output_type": "stream",
     "text": [
      "(3, 10)\n"
     ]
    }
   ],
   "source": [
    "interpolations.c[:, 0]\n",
    "print(interpolations.c.shape)"
   ]
  },
  {
   "cell_type": "code",
   "execution_count": null,
   "id": "c9e7bda6",
   "metadata": {},
   "outputs": [],
   "source": []
  },
  {
   "cell_type": "code",
   "execution_count": 28,
   "id": "aec114d5",
   "metadata": {},
   "outputs": [
    {
     "name": "stdout",
     "output_type": "stream",
     "text": [
      "-439.91692838 + 0.0 x\n",
      "-439.91692838 + 0.0 x\n",
      "-10.91845687 - 439.91692838 x\n",
      "4.08154313 - 450.83538526 x\n",
      "-0.91845687 - 446.75384213 x\n",
      "-0.91845687 - 447.67229901 x\n",
      "-64.85591217 - 569.26580597 x\n",
      "-183.21346995 - 8292.41569115 x\n",
      "-206.9261825 - 25959.67737557 x\n",
      "-206.9261825 - 45181.02384902 x\n"
     ]
    }
   ],
   "source": [
    "polinomials = []\n",
    "for i in range(interpolations.c.shape[1]):\n",
    "    p = Polynomial(interpolations.c[:, i])\n",
    "    print(p)\n",
    "    polinomials.append(p)\n",
    "\n"
   ]
  },
  {
   "cell_type": "code",
   "execution_count": null,
   "id": "5a5bfa89",
   "metadata": {},
   "outputs": [],
   "source": []
  },
  {
   "cell_type": "code",
   "execution_count": null,
   "id": "1382bf7a",
   "metadata": {},
   "outputs": [],
   "source": []
  },
  {
   "cell_type": "code",
   "execution_count": null,
   "id": "30c3a9d0",
   "metadata": {},
   "outputs": [],
   "source": [
    "import numpy as np\n",
    "import pandas as pd\n",
    "from scipy.interpolate import PchipInterpolator  # PCHIP 1-D monotonic cubic interpolation\n",
    "from scipy.interpolate import CubicSpline, UnivariateSpline, InterpolatedUnivariateSpline, splrep, splev, PPoly\n",
    "import matplotlib.pyplot as plt\n",
    "\n",
    "x = np.linspace(0, 10, 10)\n",
    "y = np.cos(x**2/3+4)\n",
    "xnew = np.linspace(0, 10, 75)\n",
    "\n",
    "tck = splrep(x, y, k=1, s=0)\n",
    "f1 = PPoly.from_spline(tck)\n",
    "f2 = InterpolatedUnivariateSpline(x, y, k=1)\n",
    "\n",
    "plt.plot(x, y, 'o', xnew, np.cos(xnew**2/3+4), ':', xnew, f1(xnew), '-', xnew, f2(xnew), '--')\n",
    "plt.legend(['data', 'real', 'PPoly', 'InterpolatedUnivariateSpline'], loc = 'best')\n",
    "plt.show()"
   ]
  }
 ],
 "metadata": {
  "kernelspec": {
   "display_name": "venv",
   "language": "python",
   "name": "venv"
  },
  "language_info": {
   "codemirror_mode": {
    "name": "ipython",
    "version": 3
   },
   "file_extension": ".py",
   "mimetype": "text/x-python",
   "name": "python",
   "nbconvert_exporter": "python",
   "pygments_lexer": "ipython3",
   "version": "3.11.1"
  }
 },
 "nbformat": 4,
 "nbformat_minor": 5
}
