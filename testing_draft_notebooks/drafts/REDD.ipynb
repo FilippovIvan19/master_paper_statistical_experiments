{
 "cells": [
  {
   "cell_type": "code",
   "execution_count": 1,
   "id": "fbd24ae3",
   "metadata": {},
   "outputs": [
    {
     "data": {
      "text/plain": [
       "'C:\\\\Users\\\\fim19\\\\MY_FILES\\\\studying\\\\MIPT\\\\masters_paper\\\\work_with_data\\\\code'"
      ]
     },
     "execution_count": 1,
     "metadata": {},
     "output_type": "execute_result"
    }
   ],
   "source": [
    "import os\n",
    "os.chdir('../..')\n",
    "os.getcwd()"
   ]
  },
  {
   "cell_type": "code",
   "execution_count": 2,
   "id": "fb25d65d",
   "metadata": {},
   "outputs": [],
   "source": [
    "%matplotlib inline\n",
    "from matplotlib import rcParams\n",
    "import matplotlib.pyplot as plt\n",
    "import pandas as pd\n",
    "import numpy as np\n",
    "import nilmtk\n",
    "from nilmtk import DataSet, MeterGroup\n",
    "\n",
    "plt.style.use('ggplot')\n",
    "rcParams['figure.figsize'] = (12, 9)\n",
    "\n"
   ]
  },
  {
   "cell_type": "code",
   "execution_count": 3,
   "id": "2d64c8ef",
   "metadata": {},
   "outputs": [],
   "source": [
    "# redd.buildings[2].__dir__()\n",
    "# redd.buildings[2].metadata\n",
    "# redd.buildings[2].import_metadata\n",
    "# redd.buildings[1].describe()"
   ]
  },
  {
   "cell_type": "code",
   "execution_count": 4,
   "id": "cdf5328d",
   "metadata": {},
   "outputs": [
    {
     "ename": "NameError",
     "evalue": "name 'elec' is not defined",
     "output_type": "error",
     "traceback": [
      "\u001b[1;31m---------------------------------------------------------------------------\u001b[0m",
      "\u001b[1;31mNameError\u001b[0m                                 Traceback (most recent call last)",
      "Cell \u001b[1;32mIn[4], line 1\u001b[0m\n\u001b[1;32m----> 1\u001b[0m \u001b[43melec\u001b[49m\u001b[38;5;241m.\u001b[39mmains()\n",
      "\u001b[1;31mNameError\u001b[0m: name 'elec' is not defined"
     ]
    }
   ],
   "source": [
    "elec.mains()"
   ]
  },
  {
   "cell_type": "code",
   "execution_count": 4,
   "id": "7e620e90",
   "metadata": {},
   "outputs": [
    {
     "ename": "TypeError",
     "evalue": "DatetimeArray._generate_range() got an unexpected keyword argument 'closed'",
     "output_type": "error",
     "traceback": [
      "\u001b[1;31m---------------------------------------------------------------------------\u001b[0m",
      "\u001b[1;31mTypeError\u001b[0m                                 Traceback (most recent call last)",
      "Cell \u001b[1;32mIn[4], line 3\u001b[0m\n\u001b[0;32m      1\u001b[0m redd \u001b[38;5;241m=\u001b[39m DataSet(\u001b[38;5;124m'\u001b[39m\u001b[38;5;124m../data/nilmtk_storage/redd.h5\u001b[39m\u001b[38;5;124m'\u001b[39m)\n\u001b[0;32m      2\u001b[0m elec \u001b[38;5;241m=\u001b[39m redd\u001b[38;5;241m.\u001b[39mbuildings[\u001b[38;5;241m6\u001b[39m]\u001b[38;5;241m.\u001b[39melec\n\u001b[1;32m----> 3\u001b[0m data \u001b[38;5;241m=\u001b[39m \u001b[43melec\u001b[49m\u001b[38;5;241;43m.\u001b[39;49m\u001b[43mmains\u001b[49m\u001b[43m(\u001b[49m\u001b[43m)\u001b[49m\u001b[38;5;241;43m.\u001b[39;49m\u001b[43mpower_series_all_data\u001b[49m\u001b[43m(\u001b[49m\u001b[43m)\u001b[49m\n\u001b[0;32m      4\u001b[0m \u001b[38;5;66;03m# data = data[:len(data)//40]\u001b[39;00m\n",
      "File \u001b[1;32m~\\MY_FILES\\studying\\MIPT\\masters_paper\\work_with_data\\code\\venv\\Lib\\site-packages\\nilmtk\\electric.py:105\u001b[0m, in \u001b[0;36mElectric.power_series_all_data\u001b[1;34m(self, **kwargs)\u001b[0m\n\u001b[0;32m    103\u001b[0m \u001b[38;5;28;01mdef\u001b[39;00m \u001b[38;5;21mpower_series_all_data\u001b[39m(\u001b[38;5;28mself\u001b[39m, \u001b[38;5;241m*\u001b[39m\u001b[38;5;241m*\u001b[39mkwargs):\n\u001b[0;32m    104\u001b[0m     chunks \u001b[38;5;241m=\u001b[39m []\n\u001b[1;32m--> 105\u001b[0m     \u001b[38;5;28;01mfor\u001b[39;00m series \u001b[38;5;129;01min\u001b[39;00m \u001b[38;5;28mself\u001b[39m\u001b[38;5;241m.\u001b[39mpower_series(\u001b[38;5;241m*\u001b[39m\u001b[38;5;241m*\u001b[39mkwargs):\n\u001b[0;32m    106\u001b[0m         \u001b[38;5;28;01mif\u001b[39;00m \u001b[38;5;28mlen\u001b[39m(series) \u001b[38;5;241m>\u001b[39m \u001b[38;5;241m0\u001b[39m:\n\u001b[0;32m    107\u001b[0m             chunks\u001b[38;5;241m.\u001b[39mappend(series)\n",
      "File \u001b[1;32m~\\MY_FILES\\studying\\MIPT\\masters_paper\\work_with_data\\code\\venv\\Lib\\site-packages\\nilmtk\\electric.py:626\u001b[0m, in \u001b[0;36mElectric.load_series\u001b[1;34m(self, **kwargs)\u001b[0m\n\u001b[0;32m    624\u001b[0m physical_quantity \u001b[38;5;241m=\u001b[39m kwargs[\u001b[38;5;124m'\u001b[39m\u001b[38;5;124mphysical_quantity\u001b[39m\u001b[38;5;124m'\u001b[39m]\n\u001b[0;32m    625\u001b[0m generator \u001b[38;5;241m=\u001b[39m \u001b[38;5;28mself\u001b[39m\u001b[38;5;241m.\u001b[39mload(\u001b[38;5;241m*\u001b[39m\u001b[38;5;241m*\u001b[39mkwargs)\n\u001b[1;32m--> 626\u001b[0m \u001b[38;5;28;01mfor\u001b[39;00m chunk \u001b[38;5;129;01min\u001b[39;00m generator:\n\u001b[0;32m    627\u001b[0m     \u001b[38;5;28;01mif\u001b[39;00m chunk\u001b[38;5;241m.\u001b[39mempty:\n\u001b[0;32m    628\u001b[0m         \u001b[38;5;28;01myield\u001b[39;00m chunk\n",
      "File \u001b[1;32m~\\MY_FILES\\studying\\MIPT\\masters_paper\\work_with_data\\code\\venv\\Lib\\site-packages\\nilmtk\\metergroup.py:720\u001b[0m, in \u001b[0;36mMeterGroup.load\u001b[1;34m(self, **kwargs)\u001b[0m\n\u001b[0;32m    718\u001b[0m start \u001b[38;5;241m=\u001b[39m normalise_timestamp(section\u001b[38;5;241m.\u001b[39mstart, freq)\n\u001b[0;32m    719\u001b[0m tz \u001b[38;5;241m=\u001b[39m \u001b[38;5;28;01mNone\u001b[39;00m \u001b[38;5;28;01mif\u001b[39;00m start\u001b[38;5;241m.\u001b[39mtz \u001b[38;5;129;01mis\u001b[39;00m \u001b[38;5;28;01mNone\u001b[39;00m \u001b[38;5;28;01melse\u001b[39;00m start\u001b[38;5;241m.\u001b[39mtz\u001b[38;5;241m.\u001b[39mzone\n\u001b[1;32m--> 720\u001b[0m index \u001b[38;5;241m=\u001b[39m \u001b[43mpd\u001b[49m\u001b[38;5;241;43m.\u001b[39;49m\u001b[43mdate_range\u001b[49m\u001b[43m(\u001b[49m\n\u001b[0;32m    721\u001b[0m \u001b[43m    \u001b[49m\u001b[43mstart\u001b[49m\u001b[38;5;241;43m.\u001b[39;49m\u001b[43mtz_localize\u001b[49m\u001b[43m(\u001b[49m\u001b[38;5;28;43;01mNone\u001b[39;49;00m\u001b[43m)\u001b[49m\u001b[43m,\u001b[49m\u001b[43m \u001b[49m\u001b[43msection\u001b[49m\u001b[38;5;241;43m.\u001b[39;49m\u001b[43mend\u001b[49m\u001b[38;5;241;43m.\u001b[39;49m\u001b[43mtz_localize\u001b[49m\u001b[43m(\u001b[49m\u001b[38;5;28;43;01mNone\u001b[39;49;00m\u001b[43m)\u001b[49m\u001b[43m,\u001b[49m\u001b[43m \u001b[49m\u001b[43mtz\u001b[49m\u001b[38;5;241;43m=\u001b[39;49m\u001b[43mtz\u001b[49m\u001b[43m,\u001b[49m\n\u001b[0;32m    722\u001b[0m \u001b[43m    \u001b[49m\u001b[43mclosed\u001b[49m\u001b[38;5;241;43m=\u001b[39;49m\u001b[38;5;124;43m'\u001b[39;49m\u001b[38;5;124;43mleft\u001b[39;49m\u001b[38;5;124;43m'\u001b[39;49m\u001b[43m,\u001b[49m\u001b[43m \u001b[49m\u001b[43mfreq\u001b[49m\u001b[38;5;241;43m=\u001b[39;49m\u001b[43mfreq\u001b[49m\u001b[43m)\u001b[49m\n\u001b[0;32m    723\u001b[0m chunk \u001b[38;5;241m=\u001b[39m combine_chunks_from_generators(\n\u001b[0;32m    724\u001b[0m     index, columns, \u001b[38;5;28mself\u001b[39m\u001b[38;5;241m.\u001b[39mmeters, kwargs)\n\u001b[0;32m    725\u001b[0m \u001b[38;5;28;01myield\u001b[39;00m chunk\n",
      "File \u001b[1;32m~\\MY_FILES\\studying\\MIPT\\masters_paper\\work_with_data\\code\\venv\\Lib\\site-packages\\pandas\\core\\indexes\\datetimes.py:945\u001b[0m, in \u001b[0;36mdate_range\u001b[1;34m(start, end, periods, freq, tz, normalize, name, inclusive, unit, **kwargs)\u001b[0m\n\u001b[0;32m    942\u001b[0m \u001b[38;5;28;01mif\u001b[39;00m freq \u001b[38;5;129;01mis\u001b[39;00m \u001b[38;5;28;01mNone\u001b[39;00m \u001b[38;5;129;01mand\u001b[39;00m com\u001b[38;5;241m.\u001b[39many_none(periods, start, end):\n\u001b[0;32m    943\u001b[0m     freq \u001b[38;5;241m=\u001b[39m \u001b[38;5;124m\"\u001b[39m\u001b[38;5;124mD\u001b[39m\u001b[38;5;124m\"\u001b[39m\n\u001b[1;32m--> 945\u001b[0m dtarr \u001b[38;5;241m=\u001b[39m \u001b[43mDatetimeArray\u001b[49m\u001b[38;5;241;43m.\u001b[39;49m\u001b[43m_generate_range\u001b[49m\u001b[43m(\u001b[49m\n\u001b[0;32m    946\u001b[0m \u001b[43m    \u001b[49m\u001b[43mstart\u001b[49m\u001b[38;5;241;43m=\u001b[39;49m\u001b[43mstart\u001b[49m\u001b[43m,\u001b[49m\n\u001b[0;32m    947\u001b[0m \u001b[43m    \u001b[49m\u001b[43mend\u001b[49m\u001b[38;5;241;43m=\u001b[39;49m\u001b[43mend\u001b[49m\u001b[43m,\u001b[49m\n\u001b[0;32m    948\u001b[0m \u001b[43m    \u001b[49m\u001b[43mperiods\u001b[49m\u001b[38;5;241;43m=\u001b[39;49m\u001b[43mperiods\u001b[49m\u001b[43m,\u001b[49m\n\u001b[0;32m    949\u001b[0m \u001b[43m    \u001b[49m\u001b[43mfreq\u001b[49m\u001b[38;5;241;43m=\u001b[39;49m\u001b[43mfreq\u001b[49m\u001b[43m,\u001b[49m\n\u001b[0;32m    950\u001b[0m \u001b[43m    \u001b[49m\u001b[43mtz\u001b[49m\u001b[38;5;241;43m=\u001b[39;49m\u001b[43mtz\u001b[49m\u001b[43m,\u001b[49m\n\u001b[0;32m    951\u001b[0m \u001b[43m    \u001b[49m\u001b[43mnormalize\u001b[49m\u001b[38;5;241;43m=\u001b[39;49m\u001b[43mnormalize\u001b[49m\u001b[43m,\u001b[49m\n\u001b[0;32m    952\u001b[0m \u001b[43m    \u001b[49m\u001b[43minclusive\u001b[49m\u001b[38;5;241;43m=\u001b[39;49m\u001b[43minclusive\u001b[49m\u001b[43m,\u001b[49m\n\u001b[0;32m    953\u001b[0m \u001b[43m    \u001b[49m\u001b[43munit\u001b[49m\u001b[38;5;241;43m=\u001b[39;49m\u001b[43munit\u001b[49m\u001b[43m,\u001b[49m\n\u001b[0;32m    954\u001b[0m \u001b[43m    \u001b[49m\u001b[38;5;241;43m*\u001b[39;49m\u001b[38;5;241;43m*\u001b[39;49m\u001b[43mkwargs\u001b[49m\u001b[43m,\u001b[49m\n\u001b[0;32m    955\u001b[0m \u001b[43m\u001b[49m\u001b[43m)\u001b[49m\n\u001b[0;32m    956\u001b[0m \u001b[38;5;28;01mreturn\u001b[39;00m DatetimeIndex\u001b[38;5;241m.\u001b[39m_simple_new(dtarr, name\u001b[38;5;241m=\u001b[39mname)\n",
      "\u001b[1;31mTypeError\u001b[0m: DatetimeArray._generate_range() got an unexpected keyword argument 'closed'"
     ]
    }
   ],
   "source": [
    "redd = DataSet('../data/nilmtk_storage/redd.h5')\n",
    "elec = redd.buildings[6].elec\n",
    "data = elec.mains().power_series_all_data()\n",
    "# data = data[:len(data)//40]"
   ]
  },
  {
   "cell_type": "code",
   "execution_count": 64,
   "id": "3489c549",
   "metadata": {},
   "outputs": [],
   "source": [
    "\n",
    "# print(data.count())\n",
    "# print(data.count()*2)\n",
    "# print(len(values))\n",
    "# print(len(data.index.astype(np.int64)))\n",
    "# print(type(data))"
   ]
  },
  {
   "cell_type": "code",
   "execution_count": 65,
   "id": "7d18aa86",
   "metadata": {},
   "outputs": [],
   "source": [
    "values = data.values\n",
    "int_dates = data.index.astype(np.int64) // 10**9"
   ]
  },
  {
   "cell_type": "code",
   "execution_count": 66,
   "id": "e76b1c3c",
   "metadata": {
    "scrolled": false
   },
   "outputs": [
    {
     "data": {
      "image/png": "[encoded data removed]",
      "text/plain": [
       "<Figure size 1200x900 with 1 Axes>"
      ]
     },
     "metadata": {},
     "output_type": "display_data"
    }
   ],
   "source": [
    "plt.plot(int_dates, values)\n",
    "plt.show()"
   ]
  },
  {
   "cell_type": "code",
   "execution_count": null,
   "id": "c0281409",
   "metadata": {},
   "outputs": [],
   "source": []
  },
  {
   "cell_type": "code",
   "execution_count": 3,
   "id": "bcf605df",
   "metadata": {},
   "outputs": [
    {
     "data": {
      "text/plain": [
       "[1, 2, 3, 4, 5, 6]"
      ]
     },
     "execution_count": 3,
     "metadata": {},
     "output_type": "execute_result"
    }
   ],
   "source": [
    "keys = sorted(redd.buildings.keys())\n",
    "keys"
   ]
  },
  {
   "cell_type": "code",
   "execution_count": 6,
   "id": "c5bea591",
   "metadata": {},
   "outputs": [],
   "source": [
    "from contextlib import contextmanager\n",
    "import time\n",
    "\n",
    "DAY_IN_SEC = 60*60*24\n",
    "MONTH_IN_SEC = 30*DAY_IN_SEC\n",
    "\n",
    "@contextmanager\n",
    "def time_measure(name):\n",
    "    start_time = time.time()\n",
    "    yield\n",
    "    elapsed_time = time.time() - start_time\n",
    "    minutes = int(elapsed_time // 60)\n",
    "    print(f'[{name}] finished in {minutes}m {elapsed_time % 60:.2f}s')"
   ]
  },
  {
   "cell_type": "code",
   "execution_count": 68,
   "id": "89d42a5e",
   "metadata": {},
   "outputs": [],
   "source": [
    "def get_stable_periods(int_dates, duration=MONTH_IN_SEC, max_gap=5):\n",
    "    stable_period_start_indexes = [0]\n",
    "    stable_period_end_indexes = []\n",
    "    deltas = [0] + [\n",
    "        int_dates[i] - int_dates[i-1]\n",
    "        for i in range(1, len(int_dates))\n",
    "    ]\n",
    "    \n",
    "    interval_lens = [1] * len(int_dates)\n",
    "    for i in range(len(int_dates)):\n",
    "        if interval_lens[i-1] < duration:\n",
    "            if deltas[i] <= max_gap:\n",
    "                interval_lens[i] = interval_lens[i-1] + deltas[i]\n",
    "            else:\n",
    "                stable_period_start_indexes.pop()\n",
    "                stable_period_start_indexes.append(i)\n",
    "        else:\n",
    "            stable_period_start_indexes.append(i)\n",
    "            stable_period_end_indexes.append(i)\n",
    "            \n",
    "    return stable_period_start_indexes, stable_period_end_indexes"
   ]
  },
  {
   "cell_type": "code",
   "execution_count": 126,
   "id": "266a8042",
   "metadata": {},
   "outputs": [],
   "source": [
    "def clear_nulls(data):\n",
    "#     def is_valid(x):\n",
    "# #         return (x is not None) \\\n",
    "# #             & isinstance(x, (np.floating, float)) \\\n",
    "# #             & np.isfinite(x) \\\n",
    "# #             & (x >= 0)\n",
    "#         return x.notnull() & (x >= 0)\n",
    "    \n",
    "#     print(type(data))\n",
    "#     print(type(data[data.apply(is_valid)]))\n",
    "#     print(data[data.apply(is_valid)])\n",
    "    \n",
    "    new_data = pd.to_numeric(data, errors='coerce')\n",
    "    new_data.replace([np.inf, -np.inf], np.nan, inplace=True)\n",
    "    new_data = new_data.dropna()\n",
    "    return new_data[new_data >= 0]\n",
    "    \n",
    "#     return data[data.apply(is_valid)]"
   ]
  },
  {
   "cell_type": "code",
   "execution_count": 128,
   "id": "275b5d9e",
   "metadata": {},
   "outputs": [
    {
     "name": "stdout",
     "output_type": "stream",
     "text": [
      "Loading data for meter ElecMeterID(instance=2, building=1, dataset='REDD')     \n",
      "Done loading data all meters for this chunk.\n",
      "count1=1577246 len1=3134093 count2=1577246 len2=1577246\n",
      "Loading data for meter ElecMeterID(instance=2, building=2, dataset='REDD')     \n",
      "Done loading data all meters for this chunk.\n",
      "count1=1207199 len1=3026449 count2=1207199 len2=1207199\n",
      "Loading data for meter ElecMeterID(instance=2, building=3, dataset='REDD')     \n",
      "Done loading data all meters for this chunk.\n",
      "count1=1475555 len1=3870507 count2=1475555 len2=1475555\n",
      "Loading data for meter ElecMeterID(instance=2, building=4, dataset='REDD')     \n",
      "Done loading data all meters for this chunk.\n",
      "count1=1681311 len1=4145366 count2=1681311 len2=1681311\n",
      "Loading data for meter ElecMeterID(instance=2, building=5, dataset='REDD')     \n",
      "Done loading data all meters for this chunk.\n",
      "count1=312613 len1=3786977 count2=312613 len2=312613\n",
      "Loading data for meter ElecMeterID(instance=2, building=6, dataset='REDD')     \n",
      "Done loading data all meters for this chunk.\n",
      "count1=1597225 len1=2022745 count2=1597225 len2=1597225\n",
      "[filtering invalid data] finished in 0m 28.01s\n"
     ]
    }
   ],
   "source": [
    "with time_measure('filtering invalid data'):\n",
    "    for i in range(len(keys)):\n",
    "        elec = redd.buildings[keys[i]].elec\n",
    "        data = elec.mains().power_series_all_data()\n",
    "        count1 = data.count()\n",
    "        len1 = len(data.values)\n",
    "        data = clear_nulls(data)\n",
    "        print(f'count1={count1} len1={len1} count2={data.count()} len2={len(data.values)}')"
   ]
  },
  {
   "cell_type": "code",
   "execution_count": null,
   "id": "ce16392d",
   "metadata": {},
   "outputs": [],
   "source": []
  },
  {
   "cell_type": "code",
   "execution_count": null,
   "id": "5ac826cd",
   "metadata": {},
   "outputs": [],
   "source": []
  },
  {
   "cell_type": "code",
   "execution_count": null,
   "id": "84ed72da",
   "metadata": {},
   "outputs": [],
   "source": []
  },
  {
   "cell_type": "code",
   "execution_count": 69,
   "id": "e6b6e1c4",
   "metadata": {},
   "outputs": [
    {
     "name": "stdout",
     "output_type": "stream",
     "text": [
      "Loading data for meter ElecMeterID(instance=2, building=1, dataset='REDD')     \n",
      "Done loading data all meters for this chunk.\n",
      "5\n",
      "[finding stable months] finished in 0m 17.85s\n"
     ]
    }
   ],
   "source": [
    "with time_measure('finding stable months'):\n",
    "    for i in range(len(keys))[:1]:\n",
    "        elec = redd.buildings[keys[i]].elec\n",
    "        data = elec.mains().power_series_all_data()\n",
    "        int_dates = data.index.astype(np.int64) // 10**9\n",
    "        periods = get_stable_periods(int_dates, duration=7*DAY_IN_SEC, max_gap=1)\n",
    "        print(len(periods[1]))"
   ]
  },
  {
   "cell_type": "code",
   "execution_count": 22,
   "id": "767e1836",
   "metadata": {},
   "outputs": [
    {
     "name": "stdout",
     "output_type": "stream",
     "text": [
      "Loading data for meter ElecMeterID(instance=2, building=1, dataset='REDD')     \n",
      "Done loading data all meters for this chunk.\n",
      "1577246\n",
      "Loading data for meter ElecMeterID(instance=2, building=2, dataset='REDD')     \n",
      "Done loading data all meters for this chunk.\n",
      "1207199\n",
      "Loading data for meter ElecMeterID(instance=2, building=3, dataset='REDD')     \n",
      "Done loading data all meters for this chunk.\n",
      "1475555\n",
      "Loading data for meter ElecMeterID(instance=2, building=4, dataset='REDD')     \n",
      "Done loading data all meters for this chunk.\n",
      "1681311\n",
      "Loading data for meter ElecMeterID(instance=2, building=5, dataset='REDD')     \n",
      "Done loading data all meters for this chunk.\n",
      "312613\n",
      "Loading data for meter ElecMeterID(instance=2, building=6, dataset='REDD')     \n",
      "Done loading data all meters for this chunk.\n",
      "1597225\n",
      "[finding stable months] finished in 0m 32.01s\n"
     ]
    }
   ],
   "source": []
  },
  {
   "cell_type": "code",
   "execution_count": 71,
   "id": "97fa6dd0",
   "metadata": {},
   "outputs": [
    {
     "data": {
      "text/plain": [
       "array([294.24, 294.24, 292.76, ..., 221.23, 216.36,    nan], dtype=float32)"
      ]
     },
     "execution_count": 71,
     "metadata": {},
     "output_type": "execute_result"
    }
   ],
   "source": [
    "values"
   ]
  },
  {
   "cell_type": "code",
   "execution_count": 74,
   "id": "675c6f16",
   "metadata": {},
   "outputs": [
    {
     "data": {
      "text/plain": [
       "numpy.float32"
      ]
     },
     "execution_count": 74,
     "metadata": {},
     "output_type": "execute_result"
    }
   ],
   "source": [
    "# values[len(values)//2 : len(values)//2 + 100]\n",
    "nan_val = values[len(values)//2]\n",
    "print(type(nan_val))\n",
    "print(nan_val == None)\n",
    "print(nan_val == None)\n",
    "print(nan_val == None)\n"
   ]
  },
  {
   "cell_type": "code",
   "execution_count": 130,
   "id": "677e5814",
   "metadata": {},
   "outputs": [
    {
     "name": "stdout",
     "output_type": "stream",
     "text": [
      "Loading data for meter ElecMeterID(instance=2, building=1, dataset='REDD')     \n",
      "Done loading data all meters for this chunk.\n",
      "11\n",
      "Loading data for meter ElecMeterID(instance=2, building=2, dataset='REDD')     \n",
      "Done loading data all meters for this chunk.\n",
      "7\n",
      "Loading data for meter ElecMeterID(instance=2, building=3, dataset='REDD')     \n",
      "Done loading data all meters for this chunk.\n",
      "9\n",
      "Loading data for meter ElecMeterID(instance=2, building=4, dataset='REDD')     \n",
      "Done loading data all meters for this chunk.\n",
      "10\n",
      "Loading data for meter ElecMeterID(instance=2, building=5, dataset='REDD')     \n",
      "Done loading data all meters for this chunk.\n",
      "0\n",
      "Loading data for meter ElecMeterID(instance=2, building=6, dataset='REDD')     \n",
      "Done loading data all meters for this chunk.\n",
      "12\n",
      "[finding stable periods] finished in 0m 56.15s\n"
     ]
    }
   ],
   "source": [
    "with time_measure('finding stable periods'):\n",
    "    for i in range(len(keys)):\n",
    "        elec = redd.buildings[keys[i]].elec\n",
    "        data = elec.mains().power_series_all_data()\n",
    "        data = clear_nulls(data)\n",
    "        int_dates = data.index.astype(np.int64) // 10**9\n",
    "        periods = get_stable_periods(int_dates, duration=DAY_IN_SEC, max_gap=1)\n",
    "        print(len(periods[1]))"
   ]
  },
  {
   "cell_type": "code",
   "execution_count": null,
   "id": "66c31668",
   "metadata": {},
   "outputs": [],
   "source": []
  }
 ],
 "metadata": {
  "kernelspec": {
   "display_name": "venv",
   "language": "python",
   "name": "venv"
  },
  "language_info": {
   "codemirror_mode": {
    "name": "ipython",
    "version": 3
   },
   "file_extension": ".py",
   "mimetype": "text/x-python",
   "name": "python",
   "nbconvert_exporter": "python",
   "pygments_lexer": "ipython3",
   "version": "3.11.1"
  }
 },
 "nbformat": 4,
 "nbformat_minor": 5
}
